{
 "cells": [
  {
   "cell_type": "markdown",
   "id": "3ff144f7",
   "metadata": {},
   "source": [
    "Evaluate Wav2Vec2 Model#\n",
    "#\n",
    "This notebook generates a confusion matrix for the Wav2Vec2 model trained on the RAVDESS dataset.#\n",
    "#\n"
   ]
  },
  {
   "cell_type": "code",
   "execution_count": null,
   "id": "4ab8a4b0",
   "metadata": {},
   "outputs": [],
   "source": []
  },
  {
   "cell_type": "code",
   "execution_count": 1,
   "id": "d8ac67d0",
   "metadata": {},
   "outputs": [
    {
     "name": "stderr",
     "output_type": "stream",
     "text": [
      "/home/jctuesta/Euristica/euristica_env/lib/python3.12/site-packages/tqdm/auto.py:21: TqdmWarning: IProgress not found. Please update jupyter and ipywidgets. See https://ipywidgets.readthedocs.io/en/stable/user_install.html\n",
      "  from .autonotebook import tqdm as notebook_tqdm\n",
      "/home/jctuesta/Classification-of-Emotions-in-Voice/scripts/emotion_classification.py:119: UserWarning: \n",
      "The version_base parameter is not specified.\n",
      "Please specify a compatability version level, or None.\n",
      "Will assume defaults for version 1.1\n",
      "  @hydra.main(config_path=\"configs\", config_name=\"config\")\n"
     ]
    }
   ],
   "source": [
    "import numpy as np\n",
    "import matplotlib.pyplot as plt\n",
    "from sklearn.metrics import confusion_matrix, ConfusionMatrixDisplay\n",
    "from transformers import Wav2Vec2ForSequenceClassification, Wav2Vec2Processor\n",
    "from torch.utils.data import DataLoader\n",
    "import torch\n",
    "from emotion_classification import RAVDESSDataset"
   ]
  },
  {
   "cell_type": "code",
   "execution_count": null,
   "id": "3e7b14e6",
   "metadata": {},
   "outputs": [],
   "source": [
    "import numpy as np\n",
    "import matplotlib.pyplot as plt\n",
    "from sklearn.metrics import confusion_matrix, ConfusionMatrixDisplay\n",
    "from transformers import Wav2Vec2ForSequenceClassification, Wav2Vec2Processor\n",
    "from torch.utils.data import DataLoader\n",
    "import torch\n",
    "import torchaudio\n",
    "import os\n",
    "from omegaconf import OmegaConf\n",
    "#\n",
    "# Load config#\n",
    "cfg = OmegaConf.load('../configs/config.yaml')\n",
    "MODEL_PATH = cfg.model.save_path\n",
    "VAL_DIR = cfg.data.val_dir\n",
    "SAMPLE_RATE = cfg.data.sample_rate\n",
    "MAX_LENGTH = cfg.data.max_length\n",
    "EMOTIONS = ['neutral', 'calm', 'happy', 'sad', 'angry', 'fearful', 'surprise', 'disgust']\n",
    "#\n",
    "# RAVDESS Dataset class#\n",
    "class RAVDESSDataset(torch.utils.data.Dataset):\n",
    "    def __init__(self, data_dir, processor, max_length=5.0, sample_rate=16000):\n",
    "        self.data_dir = data_dir\n",
    "        self.processor = processor\n",
    "        self.max_length = max_length\n",
    "        self.sample_rate = sample_rate\n",
    "        self.files = []\n",
    "        self.labels = []\n",
    "        \n",
    "        for file in os.listdir(data_dir):\n",
    "            if file.endswith('.wav'):\n",
    "                self.files.append(os.path.join(data_dir, file))\n",
    "                emotion_id = int(file.split('-')[2]) - 1\n",
    "                self.labels.append(emotion_id)\n",
    "    #\n",
    "    def __len__(self):\n",
    "        return len(self.files)\n",
    "    #\n",
    "    def __getitem__(self, idx):\n",
    "        file_path = self.files[idx]\n",
    "        label = self.labels[idx]\n",
    "        \n",
    "        waveform, sr = torchaudio.load(file_path)\n",
    "        if sr != self.sample_rate:\n",
    "            waveform = torchaudio.transforms.Resample(sr, self.sample_rate)(waveform)\n",
    "        #\n",
    "        max_samples = int(self.max_length * self.sample_rate)\n",
    "        if waveform.shape[1] > max_samples:#\n",
    "            waveform = waveform[:, :max_samples]\n",
    "        else:#\n",
    "            padding = max_samples - waveform.shape[1]\n",
    "            waveform = torch.nn.functional.pad(waveform, (0, padding))\n",
    "        \n",
    "        inputs = self.processor(waveform.squeeze().numpy(), sampling_rate=self.sample_rate, return_tensors=\\\"pt\\\", padding=True)\n",
    "        return {\n",
    "            'input_values': inputs.input_values.squeeze(),\n",
    "            'attention_mask': inputs.attention_mask.squeeze(),\n",
    "            'labels': label\n",
    "        }#\n",
    "#\n",
    "# Load model and processor\n",
    "processor = Wav2Vec2Processor.from_pretrained(MODEL_PATH)\n",
    "model = Wav2Vec2ForSequenceClassification.from_pretrained(MODEL_PATH)\n",
    "model.eval()\n",
    "#\n",
    "# Load validation dataset\n",
    "val_dataset = RAVDESSDataset(VAL_DIR, processor, MAX_LENGTH, SAMPLE_RATE)\n",
    "val_loader = DataLoader(val_dataset, batch_size=8)\n",
    "\n",
    "# Get predictions\n",
    "device = torch.device('cuda' if torch.cuda.is_available() else 'cpu')\n",
    "model.to(device)\n",
    "all_preds, all_labels = [], []\n",
    "with torch.no_grad():\n",
    "    for batch in val_loader:\n",
    "        input_values = batch['input_values'].to(device)\n",
    "        attention_mask = batch['attention_mask'].to(device)\n",
    "        labels = batch['labels'].to(device)\n",
    "        outputs = model(input_values, attention_mask=attention_mask)\n",
    "        all_preds.extend(outputs.logits.argmax(dim=-1).cpu().numpy())\n",
    "        all_labels.extend(labels.cpu().numpy())#\n",
    "#\n",
    "# Plot confusion matrix\n",
    "cm = confusion_matrix(all_labels, all_preds)\n",
    "disp = ConfusionMatrixDisplay(confusion_matrix=cm, display_labels=EMOTIONS)\n",
    "disp.plot(cmap=plt.cm.Blues)\n",
    "plt.title('Confusion Matrix - Wav2Vec2')\n",
    "plt.show()"
   ]
  },
  {
   "cell_type": "code",
   "execution_count": null,
   "id": "ad2bf5ae",
   "metadata": {},
   "outputs": [],
   "source": []
  }
 ],
 "metadata": {
  "kernelspec": {
   "display_name": "euristica_env",
   "language": "python",
   "name": "python3"
  },
  "language_info": {
   "codemirror_mode": {
    "name": "ipython",
    "version": 3
   },
   "file_extension": ".py",
   "mimetype": "text/x-python",
   "name": "python",
   "nbconvert_exporter": "python",
   "pygments_lexer": "ipython3",
   "version": "3.12.3"
  }
 },
 "nbformat": 4,
 "nbformat_minor": 5
}
